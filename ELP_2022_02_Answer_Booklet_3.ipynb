{
  "cells": [
    {
      "cell_type": "markdown",
      "metadata": {
        "id": "view-in-github",
        "colab_type": "text"
      },
      "source": [
        "<a href=\"https://colab.research.google.com/github/saad97345/Saad_Bin_Faheem_21075377ELP_2022.02_Answer_Booklet_3/blob/main/ELP_2022_02_Answer_Booklet_3.ipynb\" target=\"_parent\"><img src=\"https://colab.research.google.com/assets/colab-badge.svg\" alt=\"Open In Colab\"/></a>"
      ]
    },
    {
      "cell_type": "markdown",
      "metadata": {
        "id": "Rqo9OOSAuCdn"
      },
      "source": [
        "## Question 1 [40 Marks]:\n",
        "There is much more to creating a program than writing code. In ISYS5002, we followed a six-phase development cycle. Demonstrate the first four steps of the development cycle by **designing** an application that helps Python's Cafe owner, Ms. Robyn, to calculate the cost of their customers’ meal orders. The program should allow the user enter the `charges for the meal` at the cafe and then calculate and display the amount of `10 percent sales tax`, `15 percent tip` and the `total of all three amounts`.\n",
        "\n"
      ],
      "id": "Rqo9OOSAuCdn"
    },
    {
      "cell_type": "markdown",
      "source": [
        "# **Program Design**  \n",
        "\n",
        "\n",
        "\n",
        "\n",
        "\n",
        "\n",
        "\n",
        "\n",
        "\n"
      ],
      "metadata": {
        "id": "FvQHYQujSSFk"
      },
      "id": "FvQHYQujSSFk"
    },
    {
      "cell_type": "markdown",
      "source": [
        "## **1. State Problem Clearly**"
      ],
      "metadata": {
        "id": "A7bbwwir6zbl"
      },
      "id": "A7bbwwir6zbl"
    },
    {
      "cell_type": "markdown",
      "source": [
        "we need to input the charges for the meal then calculate and display the amount of 10 percent sales tax, 15 percent tip and the total of total amount of charges, 10 percent sales tax and 15 percent tip."
      ],
      "metadata": {
        "id": "3b6UY9zT69sn"
      },
      "id": "3b6UY9zT69sn"
    },
    {
      "cell_type": "markdown",
      "source": [
        "## **2. Describe input and outputs**"
      ],
      "metadata": {
        "id": "y3uFUn6r7G_x"
      },
      "id": "y3uFUn6r7G_x"
    },
    {
      "cell_type": "markdown",
      "source": [
        "### **Input**\n",
        "\n",
        "Charges for the meal\n",
        "\n",
        "### **Processing**\n",
        "\n",
        "Calculate amount of 10 percent sales tax\n",
        "\n",
        "Calculate amount of 15 percent tip\n",
        "\n",
        "Calculate total amount of charges, 10 percent sales tax and 15 percent tip\n",
        "\n",
        "### **Output**\n",
        "\n",
        "Amount of 10 percent sales tax\n",
        "\n",
        "Amount of 15 percent tip\n",
        "\n",
        "Total amount of charges, 10 percent sales tax and 15 percent tip"
      ],
      "metadata": {
        "id": "cf4AuRUv7LLJ"
      },
      "id": "cf4AuRUv7LLJ"
    },
    {
      "cell_type": "markdown",
      "source": [
        "## **3. Work the problem by hand - worked example**"
      ],
      "metadata": {
        "id": "u3pLeH2_7XH6"
      },
      "id": "u3pLeH2_7XH6"
    },
    {
      "cell_type": "markdown",
      "source": [
        "Charges of meal: 20\n",
        "\n",
        "10 percent sales tax: (20/100)*10\n",
        "\n",
        "15 percent tip: (20/100)*15\n",
        "\n",
        "total of all three amounts: 20 + 2 + 3"
      ],
      "metadata": {
        "id": "FK_46mf67lAc"
      },
      "id": "FK_46mf67lAc"
    },
    {
      "cell_type": "markdown",
      "source": [
        "## **4. Develope an Algorithm/Pesudocode**"
      ],
      "metadata": {
        "id": "PqL9F4dZ8Ujk"
      },
      "id": "PqL9F4dZ8Ujk"
    },
    {
      "cell_type": "markdown",
      "source": [
        "Get the input for the meal\n",
        "\n",
        "Calculate amount of 10 percent sales tax\n",
        "\n",
        "Calculate 10 percent sales tax\n",
        "\n",
        "Calculate total of all three amounts\n",
        "\n",
        "Display all three calculations"
      ],
      "metadata": {
        "id": "Ry0XzyeW8cgj"
      },
      "id": "Ry0XzyeW8cgj"
    },
    {
      "cell_type": "markdown",
      "source": [
        "# **ANSWER: Program Implementation**  "
      ],
      "metadata": {
        "id": "H1VSUx_uSlam"
      },
      "id": "H1VSUx_uSlam"
    },
    {
      "cell_type": "markdown",
      "source": [
        "## **5. Input Validation**"
      ],
      "metadata": {
        "id": "CvbaMtF_7xjv"
      },
      "id": "CvbaMtF_7xjv"
    },
    {
      "cell_type": "code",
      "source": [
        "try:\n",
        "    charges = float(input(\"Enter charges for meal: \"))\n",
        "    if(charges <= 0):\n",
        "        raise Exception()\n",
        "    sales_tax = (charges/100)*10\n",
        "    tip = (charges/100)*15\n",
        "    total = charges + sales_tax + tip\n",
        "    print(\"SALES TAX: \", sales_tax)\n",
        "    print(\"TIP: \", tip)\n",
        "    print(\"TOTAL: \", total)\n",
        "except:\n",
        "    print(\"Enter valid charges\")"
      ],
      "metadata": {
        "colab": {
          "base_uri": "https://localhost:8080/"
        },
        "id": "pFprdD6_7xT-",
        "outputId": "221d3329-5a8b-44d2-ebd4-f83bfb85b2ab"
      },
      "id": "pFprdD6_7xT-",
      "execution_count": 1,
      "outputs": [
        {
          "output_type": "stream",
          "name": "stdout",
          "text": [
            "Enter charges for meal: 20\n",
            "SALES TAX:  2.0\n",
            "TIP:  3.0\n",
            "TOTAL:  25.0\n"
          ]
        }
      ]
    },
    {
      "cell_type": "markdown",
      "source": [
        "## **6. Test solutions**"
      ],
      "metadata": {
        "id": "7qhGKhZN87RD"
      },
      "id": "7qhGKhZN87RD"
    },
    {
      "cell_type": "code",
      "source": [
        "try:\n",
        "    charges = float(input(\"Enter charges for meal: \"))\n",
        "    if(charges <= 0):\n",
        "        raise Exception()\n",
        "    sales_tax = (charges/100)*10\n",
        "    tip = (charges/100)*15\n",
        "    total = charges + sales_tax + tip\n",
        "    print(\"SALES TAX: \", sales_tax)\n",
        "    print(\"TIP: \", tip)\n",
        "    print(\"TOTAL: \", total)\n",
        "except:\n",
        "    print(\"Enter valid charges\")"
      ],
      "metadata": {
        "id": "fEF3lfu98-pr"
      },
      "id": "fEF3lfu98-pr",
      "execution_count": null,
      "outputs": []
    },
    {
      "cell_type": "code",
      "source": [],
      "metadata": {
        "id": "hQonnn4JSu1N"
      },
      "execution_count": null,
      "outputs": [],
      "id": "hQonnn4JSu1N"
    },
    {
      "cell_type": "markdown",
      "id": "75e13390",
      "metadata": {
        "id": "75e13390"
      },
      "source": [
        "## Question 2 [20 Marks]:\n",
        "\n",
        "The `elp_cheer` function repeats the given word the specified number of times and then attaches exclamation marks at the end of the words.\n",
        "\n",
        "The code is not working. It contains errors and does not follow industry best practices. **Fix the mistakes, apply PEP 8 coding best practices and include appropriate comments to explain the code**. Save the Notebook to your GitHub repository."
      ]
    },
    {
      "cell_type": "code",
      "source": [
        "def elp_cheer(word, number, case):\n",
        "    cheerword = (word + \" \") * number #indent properly and put brackets around (word + \" \") and remove * case\n",
        "    if case is False: # replace FALSE with false\n",
        "        cheerwordnew = cheerword  +  '!!!' #indent properly and remove .Upper and add (+ '!!!')\n",
        "    else: #put \":\" end of line\n",
        "        cheerwordnew = cheerword.upper() + '!!!' # indent properly and replace .Upper() with .upper()\n",
        "    return cheerwordnew #indent properly"
      ],
      "metadata": {
        "id": "M285cyjp-p2H"
      },
      "id": "M285cyjp-p2H",
      "execution_count": 3,
      "outputs": []
    },
    {
      "cell_type": "markdown",
      "source": [],
      "metadata": {
        "id": "bo3qjCEo-pch"
      },
      "id": "bo3qjCEo-pch"
    },
    {
      "cell_type": "markdown",
      "id": "351973d9",
      "metadata": {
        "id": "351973d9"
      },
      "source": [
        "## Question 3 [30 Marks] :\n",
        "Write a program the reads in sales.csv and compute the maximum, minimum and average profit for **sales performed on online channel** for countries in **Australia and Oceania region**. For each country in the Australia and Oceania region the plot their total profit. \n",
        "\n",
        "*(Hint: read the CSV into a Pandas dataframe, create a new dataframe for the region, and use the new dataframe for the calculations and bar chart. Compute the total profit before computing the max, min and average)*. \n",
        "\n",
        "Save your answer booklet to your GitHub repository.\n"
      ]
    },
    {
      "cell_type": "code",
      "source": [],
      "metadata": {
        "id": "gnj4A5FTpjLt"
      },
      "id": "gnj4A5FTpjLt",
      "execution_count": null,
      "outputs": []
    },
    {
      "cell_type": "markdown",
      "source": [
        "## Question 4 [10 Marks]\n",
        "Write a report reflecting on the lectures, workshops, and assessments for this unit, and discuss whether we achieved the unit's learning outcomes. As an appendix to the report, please include a copy of the body of all your weekly journals in a Word document. Submit the word document via the Turnitin link on Blackboard.\n",
        "\n",
        "** DO NOT ANSWER HERE ** Your answer to Question 4 is to be completed in a Word Document."
      ],
      "metadata": {
        "id": "2EXbKLCuH5iH"
      },
      "id": "2EXbKLCuH5iH"
    }
  ],
  "metadata": {
    "kernelspec": {
      "display_name": "Python 3 (ipykernel)",
      "language": "python",
      "name": "python3"
    },
    "language_info": {
      "codemirror_mode": {
        "name": "ipython",
        "version": 3
      },
      "file_extension": ".py",
      "mimetype": "text/x-python",
      "name": "python",
      "nbconvert_exporter": "python",
      "pygments_lexer": "ipython3",
      "version": "3.9.7"
    },
    "colab": {
      "provenance": [],
      "collapsed_sections": [],
      "include_colab_link": true
    }
  },
  "nbformat": 4,
  "nbformat_minor": 5
}